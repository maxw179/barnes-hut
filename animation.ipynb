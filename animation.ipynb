{
 "cells": [
  {
   "cell_type": "code",
   "execution_count": 1,
   "id": "d354e1d4-e38b-42bd-aeea-b9467dd4f0c7",
   "metadata": {},
   "outputs": [
    {
     "data": {
      "text/html": [
       "<style type='text/css'>\n",
       ".datatable table.frame { margin-bottom: 0; }\n",
       ".datatable table.frame thead { border-bottom: none; }\n",
       ".datatable table.frame tr.coltypes td {  color: #FFFFFF;  line-height: 6px;  padding: 0 0.5em;}\n",
       ".datatable .bool    { background: #DDDD99; }\n",
       ".datatable .object  { background: #565656; }\n",
       ".datatable .int     { background: #5D9E5D; }\n",
       ".datatable .float   { background: #4040CC; }\n",
       ".datatable .str     { background: #CC4040; }\n",
       ".datatable .time    { background: #40CC40; }\n",
       ".datatable .row_index {  background: var(--jp-border-color3);  border-right: 1px solid var(--jp-border-color0);  color: var(--jp-ui-font-color3);  font-size: 9px;}\n",
       ".datatable .frame tbody td { text-align: left; }\n",
       ".datatable .frame tr.coltypes .row_index {  background: var(--jp-border-color0);}\n",
       ".datatable th:nth-child(2) { padding-left: 12px; }\n",
       ".datatable .hellipsis {  color: var(--jp-cell-editor-border-color);}\n",
       ".datatable .vellipsis {  background: var(--jp-layout-color0);  color: var(--jp-cell-editor-border-color);}\n",
       ".datatable .na {  color: var(--jp-cell-editor-border-color);  font-size: 80%;}\n",
       ".datatable .sp {  opacity: 0.25;}\n",
       ".datatable .footer { font-size: 9px; }\n",
       ".datatable .frame_dimensions {  background: var(--jp-border-color3);  border-top: 1px solid var(--jp-border-color0);  color: var(--jp-ui-font-color3);  display: inline-block;  opacity: 0.6;  padding: 1px 10px 1px 5px;}\n",
       "</style>\n"
      ],
      "text/plain": [
       "<IPython.core.display.HTML object>"
      ]
     },
     "metadata": {},
     "output_type": "display_data"
    }
   ],
   "source": [
    "import os\n",
    "import datatable as dt\n",
    "import numpy as np\n",
    "import matplotlib.pyplot as plt\n",
    "import matplotlib\n",
    "from matplotlib import animation\n",
    "from matplotlib.animation import PillowWriter\n",
    "from matplotlib.animation import FFMpegWriter\n",
    "import scienceplots\n",
    "from IPython.display import clear_output\n",
    "plt.style.use(['science', 'notebook'])"
   ]
  },
  {
   "cell_type": "code",
   "execution_count": 2,
   "id": "aaf6b683",
   "metadata": {},
   "outputs": [],
   "source": [
    "def densityAnimation(fileName, xMin, xMax, yMin, yMax, iterations, nBodies, speed):\n",
    "    print(\"Animation started:\")\n",
    "    #get the data\n",
    "    CSVdata = dt.fread(fileName, verbose = True, max_nrows = iterations)\n",
    "    \n",
    "    #set image parameters\n",
    "    fig, ax = plt.subplots(figsize=(10,10), dpi = 300)\n",
    "    plt.style.use(\"dark_background\")\n",
    "    \n",
    "    xdata, ydata = [], []\n",
    "    pointData, x, y, = np.histogram2d(x = xdata, y = ydata, range = [[xMin,xMax],[yMin,yMax]], bins = [1000,1000])\n",
    "    cmap = matplotlib.cm.get_cmap(\"twilight\")\n",
    "    cmap.set_under(color='black')    \n",
    "    im = plt.imshow(pointData, interpolation='gaussian', origin='lower', cmap=cmap, vmin=0.1, vmax=13)\n",
    "    im.axes.get_xaxis().set_visible(False)\n",
    "    im.axes.get_yaxis().set_visible(False)\n",
    "    \n",
    "    #make the animation\n",
    "    ani = animation.FuncAnimation(fig, densityPillowFunction, fargs = (CSVdata, iterations, im, xMin, xMax, yMin, yMax), frames=iterations, interval=1, blit=True)\n",
    "    plt.show()\n",
    "    writer = FFMpegWriter(fps=speed)\n",
    "    ani.save(fileName + str(iterations) + \"it\" + str(nBodies) + \"nB\" + 'animation.mp4', writer=writer)\n",
    "    print(\"Saved to: \" + fileName + str(iterations) + \"it\" + str(nBodies) + \"nB\" + 'animation.mp4')\n",
    "    \n",
    "def densityPillowFunction(iteration, CSVdata, iterations, im, xMin, xMax, yMin, yMax):\n",
    "    rowArray = CSVdata[[iteration], :].to_numpy()[0][:-1]\n",
    "    \n",
    "    xdata = rowArray[::2]\n",
    "    ydata = rowArray[1::2]\n",
    "    \n",
    "    data, x, y, = np.histogram2d(x = xdata, y = ydata, range = [[xMin, xMax],[yMin,yMax]], bins = [1000,1000])\n",
    "    im.set_data(data)\n",
    "    \n",
    "    if iteration % 5 == 0:\n",
    "        print(\"Animation\" + \"\\t\" * 2 + str((float(iteration) / iterations) * 100) + \"%\")\n",
    "    \n",
    "    return im, \n",
    "    \n",
    "    "
   ]
  },
  {
   "cell_type": "code",
   "execution_count": 3,
   "id": "72b8a9b9",
   "metadata": {},
   "outputs": [
    {
     "name": "stdout",
     "output_type": "stream",
     "text": [
      "Animation started:\n",
      "[*] Process input parameters\n",
      "  Using default 8 thread(s)\n",
      "  max_nrows = 5000\n",
      "  na_strings = [\"NA\"]\n",
      "  strip_whitespace = True\n",
      "  skip_blank_lines = False\n",
      "  Input is assumed to be a file name.\n"
     ]
    },
    {
     "ename": "ValueError",
     "evalue": "File /Users/maxwatzky/Documents/GitHub/barnes-hut/_longer500k.csv does not exist",
     "output_type": "error",
     "traceback": [
      "\u001b[0;31m---------------------------------------------------------------------------\u001b[0m",
      "\u001b[0;31mValueError\u001b[0m                                Traceback (most recent call last)",
      "Cell \u001b[0;32mIn[3], line 1\u001b[0m\n\u001b[0;32m----> 1\u001b[0m \u001b[43mdensityAnimation\u001b[49m\u001b[43m(\u001b[49m\u001b[38;5;124;43m\"\u001b[39;49m\u001b[38;5;124;43m_longer500k.csv\u001b[39;49m\u001b[38;5;124;43m\"\u001b[39;49m\u001b[43m,\u001b[49m\u001b[43m \u001b[49m\u001b[43mdScalar\u001b[49m\u001b[43m \u001b[49m\u001b[38;5;241;43m=\u001b[39;49m\u001b[43m \u001b[49m\u001b[38;5;241;43m1\u001b[39;49m\u001b[43m,\u001b[49m\u001b[43m \u001b[49m\u001b[43miterations\u001b[49m\u001b[43m \u001b[49m\u001b[38;5;241;43m=\u001b[39;49m\u001b[43m \u001b[49m\u001b[38;5;241;43m5000\u001b[39;49m\u001b[43m,\u001b[49m\u001b[43m \u001b[49m\u001b[43mnBodies\u001b[49m\u001b[43m \u001b[49m\u001b[38;5;241;43m=\u001b[39;49m\u001b[43m \u001b[49m\u001b[38;5;241;43m500000\u001b[39;49m\u001b[43m,\u001b[49m\u001b[43m \u001b[49m\u001b[43mspeed\u001b[49m\u001b[43m \u001b[49m\u001b[38;5;241;43m=\u001b[39;49m\u001b[43m \u001b[49m\u001b[38;5;241;43m60\u001b[39;49m\u001b[43m)\u001b[49m\n",
      "Cell \u001b[0;32mIn[2], line 4\u001b[0m, in \u001b[0;36mdensityAnimation\u001b[0;34m(fileName, dScalar, iterations, nBodies, speed)\u001b[0m\n\u001b[1;32m      2\u001b[0m \u001b[38;5;28mprint\u001b[39m(\u001b[38;5;124m\"\u001b[39m\u001b[38;5;124mAnimation started:\u001b[39m\u001b[38;5;124m\"\u001b[39m)\n\u001b[1;32m      3\u001b[0m \u001b[38;5;66;03m#get the data\u001b[39;00m\n\u001b[0;32m----> 4\u001b[0m CSVdata \u001b[38;5;241m=\u001b[39m \u001b[43mdt\u001b[49m\u001b[38;5;241;43m.\u001b[39;49m\u001b[43mfread\u001b[49m\u001b[43m(\u001b[49m\u001b[43mfileName\u001b[49m\u001b[43m,\u001b[49m\u001b[43m \u001b[49m\u001b[43mverbose\u001b[49m\u001b[43m \u001b[49m\u001b[38;5;241;43m=\u001b[39;49m\u001b[43m \u001b[49m\u001b[38;5;28;43;01mTrue\u001b[39;49;00m\u001b[43m,\u001b[49m\u001b[43m \u001b[49m\u001b[43mmax_nrows\u001b[49m\u001b[43m \u001b[49m\u001b[38;5;241;43m=\u001b[39;49m\u001b[43m \u001b[49m\u001b[43miterations\u001b[49m\u001b[43m)\u001b[49m\n\u001b[1;32m      6\u001b[0m \u001b[38;5;66;03m#set image parameters\u001b[39;00m\n\u001b[1;32m      7\u001b[0m fig, ax \u001b[38;5;241m=\u001b[39m plt\u001b[38;5;241m.\u001b[39msubplots(figsize\u001b[38;5;241m=\u001b[39m(\u001b[38;5;241m10\u001b[39m,\u001b[38;5;241m10\u001b[39m), dpi \u001b[38;5;241m=\u001b[39m \u001b[38;5;241m300\u001b[39m)\n",
      "File \u001b[0;32m~/anaconda3/lib/python3.10/site-packages/datatable/utils/fread.py:123\u001b[0m, in \u001b[0;36m_resolve_source_any\u001b[0;34m(src, tempfiles)\u001b[0m\n\u001b[1;32m    121\u001b[0m             \u001b[38;5;28;01mif\u001b[39;00m logger:\n\u001b[1;32m    122\u001b[0m                 logger\u001b[38;5;241m.\u001b[39mdebug(\u001b[38;5;124m\"\u001b[39m\u001b[38;5;124mInput is assumed to be a file name.\u001b[39m\u001b[38;5;124m\"\u001b[39m)\n\u001b[0;32m--> 123\u001b[0m             \u001b[38;5;28;01mreturn\u001b[39;00m \u001b[43m_resolve_source_file\u001b[49m\u001b[43m(\u001b[49m\u001b[43msrc\u001b[49m\u001b[43m,\u001b[49m\u001b[43m \u001b[49m\u001b[43mtempfiles\u001b[49m\u001b[43m)\u001b[49m\n\u001b[1;32m    124\u001b[0m \u001b[38;5;28;01melif\u001b[39;00m \u001b[38;5;28misinstance\u001b[39m(src, _pathlike) \u001b[38;5;129;01mor\u001b[39;00m \u001b[38;5;28mhasattr\u001b[39m(src, \u001b[38;5;124m\"\u001b[39m\u001b[38;5;124mread\u001b[39m\u001b[38;5;124m\"\u001b[39m):\n\u001b[1;32m    125\u001b[0m     \u001b[38;5;28;01mreturn\u001b[39;00m _resolve_source_file(src, tempfiles)\n",
      "File \u001b[0;32m~/anaconda3/lib/python3.10/site-packages/datatable/utils/fread.py:201\u001b[0m, in \u001b[0;36m_resolve_source_file\u001b[0;34m(file, tempfiles)\u001b[0m\n\u001b[1;32m    199\u001b[0m         \u001b[38;5;28;01mreturn\u001b[39;00m _resolve_archive(xpath, ypath, tempfiles)\n\u001b[1;32m    200\u001b[0m     \u001b[38;5;28;01melse\u001b[39;00m:\n\u001b[0;32m--> 201\u001b[0m         \u001b[38;5;28;01mraise\u001b[39;00m \u001b[38;5;167;01mValueError\u001b[39;00m(\u001b[38;5;124m\"\u001b[39m\u001b[38;5;124mFile \u001b[39m\u001b[38;5;132;01m%s\u001b[39;00m\u001b[38;5;124m`\u001b[39m\u001b[38;5;132;01m%s\u001b[39;00m\u001b[38;5;124m` does not exist\u001b[39m\u001b[38;5;124m\"\u001b[39m\n\u001b[1;32m    202\u001b[0m                          \u001b[38;5;241m%\u001b[39m (escape(xpath), escape(ypath)))\n\u001b[1;32m    203\u001b[0m \u001b[38;5;28;01mif\u001b[39;00m \u001b[38;5;129;01mnot\u001b[39;00m os\u001b[38;5;241m.\u001b[39mpath\u001b[38;5;241m.\u001b[39misfile(file):\n\u001b[1;32m    204\u001b[0m     \u001b[38;5;28;01mraise\u001b[39;00m \u001b[38;5;167;01mValueError\u001b[39;00m(\u001b[38;5;124m\"\u001b[39m\u001b[38;5;124mPath `\u001b[39m\u001b[38;5;132;01m%s\u001b[39;00m\u001b[38;5;124m` is not a file\u001b[39m\u001b[38;5;124m\"\u001b[39m \u001b[38;5;241m%\u001b[39m escape(file))\n",
      "\u001b[0;31mValueError\u001b[0m: File /Users/maxwatzky/Documents/GitHub/barnes-hut/_longer500k.csv does not exist"
     ]
    }
   ],
   "source": [
    "densityAnimation(\"_quickTest.csv\", xMin = -1, xMax = 2, yMin = -1, yMax = 2, iterations = 1000, nBodies = 1000, speed = 60)"
   ]
  },
  {
   "cell_type": "code",
   "execution_count": null,
   "id": "887a5ef9",
   "metadata": {},
   "outputs": [],
   "source": []
  }
 ],
 "metadata": {
  "kernelspec": {
   "display_name": "Python 3 (ipykernel)",
   "language": "python",
   "name": "python3"
  },
  "language_info": {
   "codemirror_mode": {
    "name": "ipython",
    "version": 3
   },
   "file_extension": ".py",
   "mimetype": "text/x-python",
   "name": "python",
   "nbconvert_exporter": "python",
   "pygments_lexer": "ipython3",
   "version": "3.10.9"
  }
 },
 "nbformat": 4,
 "nbformat_minor": 5
}
